{
 "cells": [
  {
   "cell_type": "markdown",
   "id": "ad548055",
   "metadata": {},
   "source": [
    "# Bank Deposit Subscription Prediction\n",
    "\n",
    "## 1. Project Summary\n",
    "\n",
    "This project aims to analyze and model a **Bank Marketing Dataset** from a Portuguese banking institution. The goal is to predict whether a customer will subscribe to a term deposit using customer demographic, financial, and behavioral data.\n",
    "\n",
    "Given the dataset's size, **PySpark** is used for scalable data processing. The **XGBoost** algorithm and other machine learning models are applied for classification due to their high performance and accuracy.\n",
    "\n",
    "###  Project Goals:\n",
    "- Segment customers using demographic and behavioral features.\n",
    "- Identify which customer groups are most likely to subscribe to a term deposit.\n",
    "- Improve marketing efficiency and customer targeting.\n",
    "- Generate business insights through data mining and predictive modeling.\n",
    "\n",
    "###  Features in the Dataset:\n",
    "- **Age**: Customer age.\n",
    "- **Job**: Type of job (e.g., management, technician, retired, student, etc.).\n",
    "- **Marital**: Marital status.\n",
    "- **Education**: Education level.\n",
    "- **Default**: Has credit in default? (yes/no).\n",
    "- **Balance**: Average yearly account balance.\n",
    "- **Housing**: Has housing loan? (yes/no).\n",
    "- **Loan**: Has personal loan? (yes/no).\n",
    "- **Contact**: Contact communication type.\n",
    "- **Day**: Last contact day.\n",
    "- **Month**: Last contact month.\n",
    "- **Duration**: Duration of last contact (in seconds).\n",
    "- **Campaign**: Number of contacts during this campaign.\n",
    "- **Pdays**: Days since the client was last contacted in a previous campaign.\n",
    "- **Previous**: Number of contacts before this campaign.\n",
    "- **Poutcome**: Outcome of the previous marketing campaign.\n",
    "- **y**: Target variable – whether the client subscribed to a term deposit (yes/no).\n"
   ]
  },
  {
   "cell_type": "markdown",
   "id": "e77c3161",
   "metadata": {},
   "source": [
    "## 2. Instructions to Run the Code\n",
    "\n",
    "###  Required Libraries\n",
    "\n",
    "Make sure you have the following libraries installed:\n",
    "\n",
    "```python\n",
    "# Import library \n",
    "import pandas as pd\n",
    "from pyspark.sql import SparkSession\n",
    "from pyspark.sql.types import StructType, StructField, StringType, IntegerType\n",
    "from pyspark.sql import functions as F\n",
    "from pyspark.sql.functions import col, count, countDistinct, desc, first\n",
    "from pyspark.sql.types import IntegerType, DoubleType\n",
    "from scipy.stats import kstest\n",
    "from scipy import stats\n",
    "import matplotlib.pyplot as plt\n",
    "import seaborn as sns\n",
    "import os\n",
    "from pyspark.sql.functions import col\n",
    "from pyspark.ml.feature import StringIndexer, OneHotEncoder\n",
    "from pyspark.ml import Pipeline\n",
    "from pyspark.sql.types import ArrayType, DoubleType\n",
    "import sklearn as sk\n",
    "from sklearn import model_selection, ensemble, metrics\n",
    "from sklearn.linear_model import LogisticRegression\n",
    "from sklearn.ensemble import GradientBoostingClassifier, AdaBoostClassifier, RandomForestClassifier\n",
    "import xgboost as xgb\n",
    "from xgboost import XGBClassifier\n",
    "from sklearn import metrics\n",
    "from sklearn import tree\n",
    "import re\n",
    "\n",
    "\n",
    "Install missing packages :\n",
    "\n",
    "pip install pyspark pandas scipy seaborn matplotlib scikit-learn xgboost\n",
    "\n"
   ]
  },
  {
   "cell_type": "markdown",
   "id": "1ab4d176",
   "metadata": {},
   "source": [
    "## 3. Team Contribution\n",
    "\n",
    "| Member Name        | Responsibilities                             | Contribution (%) |\n",
    "|--------------------|----------------------------------------------|------------------|\n",
    "| Lê Ngọc Mai        | README, Slides, Report Writing               | 14.28%           |\n",
    "| Nguyễn Nhật Hồng   | Modeling, Slides, Code Integration           | 14.28%           |\n",
    "| Trần Quỳnh Trang   | Modeling, Slides, Code Integration           | 14.28%           |\n",
    "| Phạm Thị Thảo      | Data Processing, EDA, Code Integration, README | 14.28%         |\n",
    "| Phí Đình Mạnh      | Dashboard, Slides, Report Writing            | 14.28%           |\n",
    "| Đỗ Phương Dung     | EDA, Slides                                  | 14.28%           |\n",
    "| Lều Ngọc Minh      | EDA, Slides                                  | 14.28%           |\n"
   ]
  },
  {
   "cell_type": "markdown",
   "id": "3f8d5cd8",
   "metadata": {},
   "source": []
  }
 ],
 "metadata": {
  "language_info": {
   "name": "python"
  }
 },
 "nbformat": 4,
 "nbformat_minor": 5
}
